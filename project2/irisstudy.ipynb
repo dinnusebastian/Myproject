{
  "nbformat": 4,
  "nbformat_minor": 0,
  "metadata": {
    "colab": {
      "provenance": [],
      "authorship_tag": "ABX9TyOcV7u1MCnxIF9a0bqW6Nb/",
      "include_colab_link": true
    },
    "kernelspec": {
      "name": "python3",
      "display_name": "Python 3"
    },
    "language_info": {
      "name": "python"
    }
  },
  "cells": [
    {
      "cell_type": "markdown",
      "metadata": {
        "id": "view-in-github",
        "colab_type": "text"
      },
      "source": [
        "<a href=\"https://colab.research.google.com/github/dinnusebastian/Myproject/blob/main/project2/irisstudy.ipynb\" target=\"_parent\"><img src=\"https://colab.research.google.com/assets/colab-badge.svg\" alt=\"Open In Colab\"/></a>"
      ]
    },
    {
      "cell_type": "code",
      "execution_count": null,
      "metadata": {
        "id": "UO617zKnxeOD"
      },
      "outputs": [],
      "source": [
        "import pandas as pd\n",
        "import numpy as np\n",
        "df=pd.read_csv(\"/content/sample_data/Iris.csv\")"
      ]
    },
    {
      "cell_type": "code",
      "source": [
        "len(df)"
      ],
      "metadata": {
        "colab": {
          "base_uri": "https://localhost:8080/"
        },
        "id": "k-RGG7_G7S3V",
        "outputId": "5a336204-62f9-4ed4-df78-bd67efacd08b"
      },
      "execution_count": null,
      "outputs": [
        {
          "output_type": "execute_result",
          "data": {
            "text/plain": [
              "150"
            ]
          },
          "metadata": {},
          "execution_count": 2
        }
      ]
    },
    {
      "cell_type": "code",
      "source": [
        "df.head(5)"
      ],
      "metadata": {
        "colab": {
          "base_uri": "https://localhost:8080/",
          "height": 206
        },
        "id": "c6JTU77iyZtn",
        "outputId": "1b6e424d-baa2-4059-ac63-f6ca452767cc"
      },
      "execution_count": null,
      "outputs": [
        {
          "output_type": "execute_result",
          "data": {
            "text/plain": [
              "   Id  SepalLengthCm  SepalWidthCm  PetalLengthCm  PetalWidthCm      Species\n",
              "0   1            5.1           3.5            1.4           0.2  Iris-setosa\n",
              "1   2            4.9           3.0            1.4           0.2  Iris-setosa\n",
              "2   3            4.7           3.2            1.3           0.2  Iris-setosa\n",
              "3   4            4.6           3.1            1.5           0.2  Iris-setosa\n",
              "4   5            5.0           3.6            1.4           0.2  Iris-setosa"
            ],
            "text/html": [
              "\n",
              "  <div id=\"df-fd1441ec-b043-4923-aff0-aedba0dd4ae2\">\n",
              "    <div class=\"colab-df-container\">\n",
              "      <div>\n",
              "<style scoped>\n",
              "    .dataframe tbody tr th:only-of-type {\n",
              "        vertical-align: middle;\n",
              "    }\n",
              "\n",
              "    .dataframe tbody tr th {\n",
              "        vertical-align: top;\n",
              "    }\n",
              "\n",
              "    .dataframe thead th {\n",
              "        text-align: right;\n",
              "    }\n",
              "</style>\n",
              "<table border=\"1\" class=\"dataframe\">\n",
              "  <thead>\n",
              "    <tr style=\"text-align: right;\">\n",
              "      <th></th>\n",
              "      <th>Id</th>\n",
              "      <th>SepalLengthCm</th>\n",
              "      <th>SepalWidthCm</th>\n",
              "      <th>PetalLengthCm</th>\n",
              "      <th>PetalWidthCm</th>\n",
              "      <th>Species</th>\n",
              "    </tr>\n",
              "  </thead>\n",
              "  <tbody>\n",
              "    <tr>\n",
              "      <th>0</th>\n",
              "      <td>1</td>\n",
              "      <td>5.1</td>\n",
              "      <td>3.5</td>\n",
              "      <td>1.4</td>\n",
              "      <td>0.2</td>\n",
              "      <td>Iris-setosa</td>\n",
              "    </tr>\n",
              "    <tr>\n",
              "      <th>1</th>\n",
              "      <td>2</td>\n",
              "      <td>4.9</td>\n",
              "      <td>3.0</td>\n",
              "      <td>1.4</td>\n",
              "      <td>0.2</td>\n",
              "      <td>Iris-setosa</td>\n",
              "    </tr>\n",
              "    <tr>\n",
              "      <th>2</th>\n",
              "      <td>3</td>\n",
              "      <td>4.7</td>\n",
              "      <td>3.2</td>\n",
              "      <td>1.3</td>\n",
              "      <td>0.2</td>\n",
              "      <td>Iris-setosa</td>\n",
              "    </tr>\n",
              "    <tr>\n",
              "      <th>3</th>\n",
              "      <td>4</td>\n",
              "      <td>4.6</td>\n",
              "      <td>3.1</td>\n",
              "      <td>1.5</td>\n",
              "      <td>0.2</td>\n",
              "      <td>Iris-setosa</td>\n",
              "    </tr>\n",
              "    <tr>\n",
              "      <th>4</th>\n",
              "      <td>5</td>\n",
              "      <td>5.0</td>\n",
              "      <td>3.6</td>\n",
              "      <td>1.4</td>\n",
              "      <td>0.2</td>\n",
              "      <td>Iris-setosa</td>\n",
              "    </tr>\n",
              "  </tbody>\n",
              "</table>\n",
              "</div>\n",
              "      <button class=\"colab-df-convert\" onclick=\"convertToInteractive('df-fd1441ec-b043-4923-aff0-aedba0dd4ae2')\"\n",
              "              title=\"Convert this dataframe to an interactive table.\"\n",
              "              style=\"display:none;\">\n",
              "        \n",
              "  <svg xmlns=\"http://www.w3.org/2000/svg\" height=\"24px\"viewBox=\"0 0 24 24\"\n",
              "       width=\"24px\">\n",
              "    <path d=\"M0 0h24v24H0V0z\" fill=\"none\"/>\n",
              "    <path d=\"M18.56 5.44l.94 2.06.94-2.06 2.06-.94-2.06-.94-.94-2.06-.94 2.06-2.06.94zm-11 1L8.5 8.5l.94-2.06 2.06-.94-2.06-.94L8.5 2.5l-.94 2.06-2.06.94zm10 10l.94 2.06.94-2.06 2.06-.94-2.06-.94-.94-2.06-.94 2.06-2.06.94z\"/><path d=\"M17.41 7.96l-1.37-1.37c-.4-.4-.92-.59-1.43-.59-.52 0-1.04.2-1.43.59L10.3 9.45l-7.72 7.72c-.78.78-.78 2.05 0 2.83L4 21.41c.39.39.9.59 1.41.59.51 0 1.02-.2 1.41-.59l7.78-7.78 2.81-2.81c.8-.78.8-2.07 0-2.86zM5.41 20L4 18.59l7.72-7.72 1.47 1.35L5.41 20z\"/>\n",
              "  </svg>\n",
              "      </button>\n",
              "      \n",
              "  <style>\n",
              "    .colab-df-container {\n",
              "      display:flex;\n",
              "      flex-wrap:wrap;\n",
              "      gap: 12px;\n",
              "    }\n",
              "\n",
              "    .colab-df-convert {\n",
              "      background-color: #E8F0FE;\n",
              "      border: none;\n",
              "      border-radius: 50%;\n",
              "      cursor: pointer;\n",
              "      display: none;\n",
              "      fill: #1967D2;\n",
              "      height: 32px;\n",
              "      padding: 0 0 0 0;\n",
              "      width: 32px;\n",
              "    }\n",
              "\n",
              "    .colab-df-convert:hover {\n",
              "      background-color: #E2EBFA;\n",
              "      box-shadow: 0px 1px 2px rgba(60, 64, 67, 0.3), 0px 1px 3px 1px rgba(60, 64, 67, 0.15);\n",
              "      fill: #174EA6;\n",
              "    }\n",
              "\n",
              "    [theme=dark] .colab-df-convert {\n",
              "      background-color: #3B4455;\n",
              "      fill: #D2E3FC;\n",
              "    }\n",
              "\n",
              "    [theme=dark] .colab-df-convert:hover {\n",
              "      background-color: #434B5C;\n",
              "      box-shadow: 0px 1px 3px 1px rgba(0, 0, 0, 0.15);\n",
              "      filter: drop-shadow(0px 1px 2px rgba(0, 0, 0, 0.3));\n",
              "      fill: #FFFFFF;\n",
              "    }\n",
              "  </style>\n",
              "\n",
              "      <script>\n",
              "        const buttonEl =\n",
              "          document.querySelector('#df-fd1441ec-b043-4923-aff0-aedba0dd4ae2 button.colab-df-convert');\n",
              "        buttonEl.style.display =\n",
              "          google.colab.kernel.accessAllowed ? 'block' : 'none';\n",
              "\n",
              "        async function convertToInteractive(key) {\n",
              "          const element = document.querySelector('#df-fd1441ec-b043-4923-aff0-aedba0dd4ae2');\n",
              "          const dataTable =\n",
              "            await google.colab.kernel.invokeFunction('convertToInteractive',\n",
              "                                                     [key], {});\n",
              "          if (!dataTable) return;\n",
              "\n",
              "          const docLinkHtml = 'Like what you see? Visit the ' +\n",
              "            '<a target=\"_blank\" href=https://colab.research.google.com/notebooks/data_table.ipynb>data table notebook</a>'\n",
              "            + ' to learn more about interactive tables.';\n",
              "          element.innerHTML = '';\n",
              "          dataTable['output_type'] = 'display_data';\n",
              "          await google.colab.output.renderOutput(dataTable, element);\n",
              "          const docLink = document.createElement('div');\n",
              "          docLink.innerHTML = docLinkHtml;\n",
              "          element.appendChild(docLink);\n",
              "        }\n",
              "      </script>\n",
              "    </div>\n",
              "  </div>\n",
              "  "
            ]
          },
          "metadata": {},
          "execution_count": 3
        }
      ]
    },
    {
      "cell_type": "code",
      "source": [
        "df.isna().sum()"
      ],
      "metadata": {
        "colab": {
          "base_uri": "https://localhost:8080/"
        },
        "id": "RLu1RliuybPa",
        "outputId": "5bf146d4-0f8b-474c-c499-ac3c248f9627"
      },
      "execution_count": null,
      "outputs": [
        {
          "output_type": "execute_result",
          "data": {
            "text/plain": [
              "Id               0\n",
              "SepalLengthCm    0\n",
              "SepalWidthCm     0\n",
              "PetalLengthCm    0\n",
              "PetalWidthCm     0\n",
              "Species          0\n",
              "dtype: int64"
            ]
          },
          "metadata": {},
          "execution_count": 4
        }
      ]
    },
    {
      "cell_type": "code",
      "source": [
        "#dropping id as it is of no use in analytics\n",
        "df1=df.drop(\"Id\",axis='columns')\n",
        "df1.head(5)"
      ],
      "metadata": {
        "colab": {
          "base_uri": "https://localhost:8080/",
          "height": 206
        },
        "id": "V0JQAJfeyj2J",
        "outputId": "f76cab8b-5d3e-4ffd-971a-82850b094953"
      },
      "execution_count": null,
      "outputs": [
        {
          "output_type": "execute_result",
          "data": {
            "text/plain": [
              "   SepalLengthCm  SepalWidthCm  PetalLengthCm  PetalWidthCm      Species\n",
              "0            5.1           3.5            1.4           0.2  Iris-setosa\n",
              "1            4.9           3.0            1.4           0.2  Iris-setosa\n",
              "2            4.7           3.2            1.3           0.2  Iris-setosa\n",
              "3            4.6           3.1            1.5           0.2  Iris-setosa\n",
              "4            5.0           3.6            1.4           0.2  Iris-setosa"
            ],
            "text/html": [
              "\n",
              "  <div id=\"df-a34d8c6e-82c6-4b43-a458-fefcc56da230\">\n",
              "    <div class=\"colab-df-container\">\n",
              "      <div>\n",
              "<style scoped>\n",
              "    .dataframe tbody tr th:only-of-type {\n",
              "        vertical-align: middle;\n",
              "    }\n",
              "\n",
              "    .dataframe tbody tr th {\n",
              "        vertical-align: top;\n",
              "    }\n",
              "\n",
              "    .dataframe thead th {\n",
              "        text-align: right;\n",
              "    }\n",
              "</style>\n",
              "<table border=\"1\" class=\"dataframe\">\n",
              "  <thead>\n",
              "    <tr style=\"text-align: right;\">\n",
              "      <th></th>\n",
              "      <th>SepalLengthCm</th>\n",
              "      <th>SepalWidthCm</th>\n",
              "      <th>PetalLengthCm</th>\n",
              "      <th>PetalWidthCm</th>\n",
              "      <th>Species</th>\n",
              "    </tr>\n",
              "  </thead>\n",
              "  <tbody>\n",
              "    <tr>\n",
              "      <th>0</th>\n",
              "      <td>5.1</td>\n",
              "      <td>3.5</td>\n",
              "      <td>1.4</td>\n",
              "      <td>0.2</td>\n",
              "      <td>Iris-setosa</td>\n",
              "    </tr>\n",
              "    <tr>\n",
              "      <th>1</th>\n",
              "      <td>4.9</td>\n",
              "      <td>3.0</td>\n",
              "      <td>1.4</td>\n",
              "      <td>0.2</td>\n",
              "      <td>Iris-setosa</td>\n",
              "    </tr>\n",
              "    <tr>\n",
              "      <th>2</th>\n",
              "      <td>4.7</td>\n",
              "      <td>3.2</td>\n",
              "      <td>1.3</td>\n",
              "      <td>0.2</td>\n",
              "      <td>Iris-setosa</td>\n",
              "    </tr>\n",
              "    <tr>\n",
              "      <th>3</th>\n",
              "      <td>4.6</td>\n",
              "      <td>3.1</td>\n",
              "      <td>1.5</td>\n",
              "      <td>0.2</td>\n",
              "      <td>Iris-setosa</td>\n",
              "    </tr>\n",
              "    <tr>\n",
              "      <th>4</th>\n",
              "      <td>5.0</td>\n",
              "      <td>3.6</td>\n",
              "      <td>1.4</td>\n",
              "      <td>0.2</td>\n",
              "      <td>Iris-setosa</td>\n",
              "    </tr>\n",
              "  </tbody>\n",
              "</table>\n",
              "</div>\n",
              "      <button class=\"colab-df-convert\" onclick=\"convertToInteractive('df-a34d8c6e-82c6-4b43-a458-fefcc56da230')\"\n",
              "              title=\"Convert this dataframe to an interactive table.\"\n",
              "              style=\"display:none;\">\n",
              "        \n",
              "  <svg xmlns=\"http://www.w3.org/2000/svg\" height=\"24px\"viewBox=\"0 0 24 24\"\n",
              "       width=\"24px\">\n",
              "    <path d=\"M0 0h24v24H0V0z\" fill=\"none\"/>\n",
              "    <path d=\"M18.56 5.44l.94 2.06.94-2.06 2.06-.94-2.06-.94-.94-2.06-.94 2.06-2.06.94zm-11 1L8.5 8.5l.94-2.06 2.06-.94-2.06-.94L8.5 2.5l-.94 2.06-2.06.94zm10 10l.94 2.06.94-2.06 2.06-.94-2.06-.94-.94-2.06-.94 2.06-2.06.94z\"/><path d=\"M17.41 7.96l-1.37-1.37c-.4-.4-.92-.59-1.43-.59-.52 0-1.04.2-1.43.59L10.3 9.45l-7.72 7.72c-.78.78-.78 2.05 0 2.83L4 21.41c.39.39.9.59 1.41.59.51 0 1.02-.2 1.41-.59l7.78-7.78 2.81-2.81c.8-.78.8-2.07 0-2.86zM5.41 20L4 18.59l7.72-7.72 1.47 1.35L5.41 20z\"/>\n",
              "  </svg>\n",
              "      </button>\n",
              "      \n",
              "  <style>\n",
              "    .colab-df-container {\n",
              "      display:flex;\n",
              "      flex-wrap:wrap;\n",
              "      gap: 12px;\n",
              "    }\n",
              "\n",
              "    .colab-df-convert {\n",
              "      background-color: #E8F0FE;\n",
              "      border: none;\n",
              "      border-radius: 50%;\n",
              "      cursor: pointer;\n",
              "      display: none;\n",
              "      fill: #1967D2;\n",
              "      height: 32px;\n",
              "      padding: 0 0 0 0;\n",
              "      width: 32px;\n",
              "    }\n",
              "\n",
              "    .colab-df-convert:hover {\n",
              "      background-color: #E2EBFA;\n",
              "      box-shadow: 0px 1px 2px rgba(60, 64, 67, 0.3), 0px 1px 3px 1px rgba(60, 64, 67, 0.15);\n",
              "      fill: #174EA6;\n",
              "    }\n",
              "\n",
              "    [theme=dark] .colab-df-convert {\n",
              "      background-color: #3B4455;\n",
              "      fill: #D2E3FC;\n",
              "    }\n",
              "\n",
              "    [theme=dark] .colab-df-convert:hover {\n",
              "      background-color: #434B5C;\n",
              "      box-shadow: 0px 1px 3px 1px rgba(0, 0, 0, 0.15);\n",
              "      filter: drop-shadow(0px 1px 2px rgba(0, 0, 0, 0.3));\n",
              "      fill: #FFFFFF;\n",
              "    }\n",
              "  </style>\n",
              "\n",
              "      <script>\n",
              "        const buttonEl =\n",
              "          document.querySelector('#df-a34d8c6e-82c6-4b43-a458-fefcc56da230 button.colab-df-convert');\n",
              "        buttonEl.style.display =\n",
              "          google.colab.kernel.accessAllowed ? 'block' : 'none';\n",
              "\n",
              "        async function convertToInteractive(key) {\n",
              "          const element = document.querySelector('#df-a34d8c6e-82c6-4b43-a458-fefcc56da230');\n",
              "          const dataTable =\n",
              "            await google.colab.kernel.invokeFunction('convertToInteractive',\n",
              "                                                     [key], {});\n",
              "          if (!dataTable) return;\n",
              "\n",
              "          const docLinkHtml = 'Like what you see? Visit the ' +\n",
              "            '<a target=\"_blank\" href=https://colab.research.google.com/notebooks/data_table.ipynb>data table notebook</a>'\n",
              "            + ' to learn more about interactive tables.';\n",
              "          element.innerHTML = '';\n",
              "          dataTable['output_type'] = 'display_data';\n",
              "          await google.colab.output.renderOutput(dataTable, element);\n",
              "          const docLink = document.createElement('div');\n",
              "          docLink.innerHTML = docLinkHtml;\n",
              "          element.appendChild(docLink);\n",
              "        }\n",
              "      </script>\n",
              "    </div>\n",
              "  </div>\n",
              "  "
            ]
          },
          "metadata": {},
          "execution_count": 5
        }
      ]
    },
    {
      "cell_type": "code",
      "source": [
        "x=df1.iloc[:,:-1].values\n",
        "y=df1.iloc[:,-1].values\n",
        "y"
      ],
      "metadata": {
        "colab": {
          "base_uri": "https://localhost:8080/"
        },
        "id": "nsREg_Ynyxeu",
        "outputId": "8269f6f9-c57a-4170-a1a4-19cb70c29737"
      },
      "execution_count": null,
      "outputs": [
        {
          "output_type": "execute_result",
          "data": {
            "text/plain": [
              "array(['Iris-setosa', 'Iris-setosa', 'Iris-setosa', 'Iris-setosa',\n",
              "       'Iris-setosa', 'Iris-setosa', 'Iris-setosa', 'Iris-setosa',\n",
              "       'Iris-setosa', 'Iris-setosa', 'Iris-setosa', 'Iris-setosa',\n",
              "       'Iris-setosa', 'Iris-setosa', 'Iris-setosa', 'Iris-setosa',\n",
              "       'Iris-setosa', 'Iris-setosa', 'Iris-setosa', 'Iris-setosa',\n",
              "       'Iris-setosa', 'Iris-setosa', 'Iris-setosa', 'Iris-setosa',\n",
              "       'Iris-setosa', 'Iris-setosa', 'Iris-setosa', 'Iris-setosa',\n",
              "       'Iris-setosa', 'Iris-setosa', 'Iris-setosa', 'Iris-setosa',\n",
              "       'Iris-setosa', 'Iris-setosa', 'Iris-setosa', 'Iris-setosa',\n",
              "       'Iris-setosa', 'Iris-setosa', 'Iris-setosa', 'Iris-setosa',\n",
              "       'Iris-setosa', 'Iris-setosa', 'Iris-setosa', 'Iris-setosa',\n",
              "       'Iris-setosa', 'Iris-setosa', 'Iris-setosa', 'Iris-setosa',\n",
              "       'Iris-setosa', 'Iris-setosa', 'Iris-versicolor', 'Iris-versicolor',\n",
              "       'Iris-versicolor', 'Iris-versicolor', 'Iris-versicolor',\n",
              "       'Iris-versicolor', 'Iris-versicolor', 'Iris-versicolor',\n",
              "       'Iris-versicolor', 'Iris-versicolor', 'Iris-versicolor',\n",
              "       'Iris-versicolor', 'Iris-versicolor', 'Iris-versicolor',\n",
              "       'Iris-versicolor', 'Iris-versicolor', 'Iris-versicolor',\n",
              "       'Iris-versicolor', 'Iris-versicolor', 'Iris-versicolor',\n",
              "       'Iris-versicolor', 'Iris-versicolor', 'Iris-versicolor',\n",
              "       'Iris-versicolor', 'Iris-versicolor', 'Iris-versicolor',\n",
              "       'Iris-versicolor', 'Iris-versicolor', 'Iris-versicolor',\n",
              "       'Iris-versicolor', 'Iris-versicolor', 'Iris-versicolor',\n",
              "       'Iris-versicolor', 'Iris-versicolor', 'Iris-versicolor',\n",
              "       'Iris-versicolor', 'Iris-versicolor', 'Iris-versicolor',\n",
              "       'Iris-versicolor', 'Iris-versicolor', 'Iris-versicolor',\n",
              "       'Iris-versicolor', 'Iris-versicolor', 'Iris-versicolor',\n",
              "       'Iris-versicolor', 'Iris-versicolor', 'Iris-versicolor',\n",
              "       'Iris-versicolor', 'Iris-versicolor', 'Iris-versicolor',\n",
              "       'Iris-virginica', 'Iris-virginica', 'Iris-virginica',\n",
              "       'Iris-virginica', 'Iris-virginica', 'Iris-virginica',\n",
              "       'Iris-virginica', 'Iris-virginica', 'Iris-virginica',\n",
              "       'Iris-virginica', 'Iris-virginica', 'Iris-virginica',\n",
              "       'Iris-virginica', 'Iris-virginica', 'Iris-virginica',\n",
              "       'Iris-virginica', 'Iris-virginica', 'Iris-virginica',\n",
              "       'Iris-virginica', 'Iris-virginica', 'Iris-virginica',\n",
              "       'Iris-virginica', 'Iris-virginica', 'Iris-virginica',\n",
              "       'Iris-virginica', 'Iris-virginica', 'Iris-virginica',\n",
              "       'Iris-virginica', 'Iris-virginica', 'Iris-virginica',\n",
              "       'Iris-virginica', 'Iris-virginica', 'Iris-virginica',\n",
              "       'Iris-virginica', 'Iris-virginica', 'Iris-virginica',\n",
              "       'Iris-virginica', 'Iris-virginica', 'Iris-virginica',\n",
              "       'Iris-virginica', 'Iris-virginica', 'Iris-virginica',\n",
              "       'Iris-virginica', 'Iris-virginica', 'Iris-virginica',\n",
              "       'Iris-virginica', 'Iris-virginica', 'Iris-virginica',\n",
              "       'Iris-virginica', 'Iris-virginica'], dtype=object)"
            ]
          },
          "metadata": {},
          "execution_count": 6
        }
      ]
    },
    {
      "cell_type": "code",
      "source": [
        "#splitting dataset into training and testing data\n",
        "from sklearn.model_selection import train_test_split\n",
        "x_train,x_test,y_train,y_test=train_test_split(x,y,test_size=0.30)"
      ],
      "metadata": {
        "id": "6QgcFIrq0G_W"
      },
      "execution_count": null,
      "outputs": []
    },
    {
      "cell_type": "code",
      "source": [
        "#normalisation step --making all the inputs to the same range\n",
        "from sklearn.preprocessing import StandardScaler\n",
        "scaler=StandardScaler()\n",
        "scaler.fit(x_train)\n",
        "x_train=scaler.transform(x_train)\n",
        "x_test=scaler.transform(x_test)\n",
        "x_train"
      ],
      "metadata": {
        "colab": {
          "base_uri": "https://localhost:8080/"
        },
        "id": "U4_DyE7I1qSZ",
        "outputId": "5007f8e3-9669-4753-d385-798f3a21e625"
      },
      "execution_count": null,
      "outputs": [
        {
          "output_type": "execute_result",
          "data": {
            "text/plain": [
              "array([[-0.90639078, -0.20293772, -1.08574815, -1.20189288],\n",
              "       [-0.90639078,  0.91856021, -1.25033462, -1.07165681],\n",
              "       [ 2.45122471,  1.59145896,  1.54763524,  1.14235639],\n",
              "       [-0.09593187,  1.59145896, -1.030886  , -1.07165681],\n",
              "       [ 1.29342626,  0.02136187,  0.72470293,  0.49117604],\n",
              "       [-1.13795047,  0.02136187, -1.08574815, -1.20189288],\n",
              "       [-0.90639078,  0.46996104, -1.19547246, -1.20189288],\n",
              "       [ 1.06186658, -1.32443565,  1.21846232,  0.88188425],\n",
              "       [-0.90639078, -1.77303482, -0.15309153, -0.16000432],\n",
              "       [ 0.5987472 ,  0.69426062,  1.10873801,  1.66330067],\n",
              "       [-1.13795047, -0.20293772, -1.19547246, -1.33212895],\n",
              "       [ 0.25140766, -1.9973344 ,  0.77956508,  0.49117604],\n",
              "       [-0.21171172, -1.32443565,  0.17608139, -0.02976824],\n",
              "       [-0.79061094,  0.91856021, -1.19547246, -1.07165681],\n",
              "       [ 0.01984797, -0.87583648,  0.83442724,  1.01212032],\n",
              "       [-1.13795047,  0.69426062, -1.08574815, -1.20189288],\n",
              "       [-1.60106985, -0.20293772, -1.25033462, -1.20189288],\n",
              "       [ 1.06186658,  0.46996104,  1.16360016,  1.79353674],\n",
              "       [-0.90639078,  0.91856021, -1.08574815, -0.6809486 ],\n",
              "       [ 1.17764642, -0.20293772,  1.05387585,  1.27259246],\n",
              "       [ 2.21966502,  1.59145896,  1.7122217 ,  1.40282853],\n",
              "       [-0.90639078,  1.14285979, -1.19547246, -1.20189288],\n",
              "       [ 1.75654564, -0.42723731,  1.49277309,  0.88188425],\n",
              "       [-1.13795047, -0.20293772, -1.19547246, -1.07165681],\n",
              "       [-0.21171172, -0.42723731,  0.01149493,  0.2307039 ],\n",
              "       [-0.90639078,  0.24566145, -1.30519677, -1.20189288],\n",
              "       [ 1.29342626,  0.02136187,  0.83442724,  1.5330646 ],\n",
              "       [ 0.01984797,  2.04005813, -1.30519677, -1.20189288],\n",
              "       [-0.09593187,  2.93725647, -1.14061031, -0.94142074],\n",
              "       [ 0.25140766,  0.69426062,  0.50525431,  0.62141211],\n",
              "       [ 0.01984797, -1.10013606,  0.23094354,  0.10046783],\n",
              "       [-0.79061094,  1.59145896, -1.08574815, -1.20189288],\n",
              "       [-0.90639078, -2.44593357, -0.04336723, -0.16000432],\n",
              "       [-1.13795047,  0.69426062, -0.92116169, -1.20189288],\n",
              "       [ 0.13562782, -0.20293772,  0.34066785,  0.49117604],\n",
              "       [-1.36951016,  1.14285979, -1.41492108, -1.20189288],\n",
              "       [ 0.36718751, -0.42723731,  0.61497862,  0.36093997],\n",
              "       [-0.32749156, -1.54873523,  0.12121924, -0.02976824],\n",
              "       [ 0.83030689,  0.24566145,  0.83442724,  1.14235639],\n",
              "       [-1.36951016,  0.02136187, -1.14061031, -1.20189288],\n",
              "       [-0.21171172, -0.20293772,  0.50525431,  0.49117604],\n",
              "       [ 2.10388518, -0.20293772,  1.65735955,  1.27259246],\n",
              "       [ 2.21966502, -0.20293772,  1.38304878,  1.5330646 ],\n",
              "       [-1.02217063,  0.02136187, -1.14061031, -1.33212895],\n",
              "       [ 0.5987472 , -1.77303482,  0.45039216,  0.2307039 ],\n",
              "       [-0.79061094,  0.46996104, -1.030886  , -0.81118467],\n",
              "       [-0.44327141,  1.36715938, -1.14061031, -1.20189288],\n",
              "       [-0.67483109,  0.91856021, -1.14061031, -1.20189288],\n",
              "       [ 0.13562782,  0.24566145,  0.66984078,  0.88188425],\n",
              "       [ 2.21966502, -0.65153689,  1.7122217 ,  1.14235639],\n",
              "       [-0.79061094,  1.36715938, -1.14061031, -0.94142074],\n",
              "       [ 0.01984797, -0.87583648,  0.17608139,  0.10046783],\n",
              "       [-1.02217063, -1.54873523, -0.15309153, -0.16000432],\n",
              "       [-0.79061094,  1.59145896, -0.92116169, -0.94142074],\n",
              "       [-0.44327141,  1.81575855, -1.030886  , -0.94142074],\n",
              "       [ 0.25140766, -0.20293772,  0.66984078,  0.88188425],\n",
              "       [ 1.06186658, -0.20293772,  0.88928939,  1.5330646 ],\n",
              "       [ 0.48296735, -0.65153689,  0.66984078,  0.88188425],\n",
              "       [ 0.01984797, -0.87583648,  0.83442724,  1.01212032],\n",
              "       [-0.44327141,  0.69426062, -1.14061031, -0.94142074],\n",
              "       [ 0.13562782, -0.20293772,  0.83442724,  0.88188425],\n",
              "       [ 0.71452704,  0.02136187,  1.05387585,  0.88188425],\n",
              "       [ 0.71452704, -0.42723731,  0.39553001,  0.2307039 ],\n",
              "       [ 0.83030689, -0.20293772,  1.05387585,  0.88188425],\n",
              "       [-1.48529001, -1.77303482, -1.25033462, -1.07165681],\n",
              "       [-0.09593187, -0.65153689,  0.50525431,  0.2307039 ],\n",
              "       [-1.36951016,  0.69426062, -1.19547246, -1.07165681],\n",
              "       [-0.09593187, -0.42723731,  0.34066785,  0.2307039 ],\n",
              "       [-0.32749156, -1.32443565,  0.23094354,  0.2307039 ],\n",
              "       [ 1.52498595, -0.20293772,  1.27332447,  1.27259246],\n",
              "       [-0.44327141,  0.69426062, -1.030886  , -1.20189288],\n",
              "       [-1.7168497 , -0.20293772, -1.36005892, -1.33212895],\n",
              "       [ 1.06186658,  0.02136187,  0.61497862,  0.49117604],\n",
              "       [ 0.25140766, -1.9973344 ,  0.23094354, -0.16000432],\n",
              "       [-0.79061094, -1.32443565, -0.317678  , -0.02976824],\n",
              "       [ 0.25140766, -0.87583648,  0.83442724,  0.62141211],\n",
              "       [ 0.5987472 , -1.32443565,  0.72470293,  0.49117604],\n",
              "       [ 0.71452704,  0.24566145,  0.94415155,  1.5330646 ],\n",
              "       [-0.44327141, -0.20293772,  0.50525431,  0.49117604],\n",
              "       [-1.60106985,  0.24566145, -1.25033462, -1.20189288],\n",
              "       [-0.67483109, -0.87583648,  0.17608139,  0.36093997],\n",
              "       [ 0.83030689, -0.20293772,  0.88928939,  1.14235639],\n",
              "       [-0.44327141,  1.81575855, -1.25033462, -0.94142074],\n",
              "       [ 0.5987472 , -1.32443565,  0.77956508,  1.01212032],\n",
              "       [-0.79061094,  0.91856021, -1.19547246, -1.20189288],\n",
              "       [-0.09593187, -0.20293772,  0.34066785,  0.10046783],\n",
              "       [ 1.87232549, -0.65153689,  1.38304878,  1.01212032],\n",
              "       [ 0.48296735,  0.69426062,  0.9990137 ,  1.5330646 ],\n",
              "       [ 1.6407658 ,  0.24566145,  1.32818662,  0.88188425],\n",
              "       [ 1.29342626,  0.24566145,  1.16360016,  1.5330646 ],\n",
              "       [-1.02217063, -0.20293772, -1.19547246, -1.20189288],\n",
              "       [ 0.5987472 ,  0.46996104,  1.32818662,  1.79353674],\n",
              "       [ 1.06186658, -0.20293772,  0.77956508,  0.75164818],\n",
              "       [-0.90639078,  0.69426062, -1.08574815, -0.94142074],\n",
              "       [-0.21171172, -0.20293772,  0.2858057 ,  0.2307039 ],\n",
              "       [-1.25373032,  0.24566145, -1.08574815, -1.20189288],\n",
              "       [-0.32749156, -1.54873523,  0.06635708, -0.16000432],\n",
              "       [-0.79061094,  0.69426062, -1.14061031, -1.20189288],\n",
              "       [ 1.29342626,  0.02136187,  0.9990137 ,  1.27259246],\n",
              "       [-0.90639078,  0.69426062, -1.14061031, -1.20189288],\n",
              "       [ 0.36718751, -1.10013606,  1.10873801,  0.36093997],\n",
              "       [-0.79061094,  1.59145896, -1.14061031, -1.07165681],\n",
              "       [-0.55905125,  1.36715938, -1.14061031, -1.20189288],\n",
              "       [ 1.17764642, -0.65153689,  0.66984078,  0.36093997],\n",
              "       [ 1.6407658 , -0.20293772,  1.21846232,  0.62141211]])"
            ]
          },
          "metadata": {},
          "execution_count": 17
        }
      ]
    },
    {
      "cell_type": "code",
      "source": [
        "#creating model using knn\n",
        "from sklearn.neighbors import KNeighborsClassifier\n",
        "knn=KNeighborsClassifier(n_neighbors=7)\n",
        "knn.fit(x_train,y_train)\n",
        "y_pred=knn.predict(x_test)"
      ],
      "metadata": {
        "id": "GuZB_JTi3L7c"
      },
      "execution_count": null,
      "outputs": []
    },
    {
      "cell_type": "code",
      "source": [
        "len(y_test)"
      ],
      "metadata": {
        "id": "GZiQLhn470mR",
        "outputId": "9e61327d-b3bb-4dc8-9a35-6bad179f978e",
        "colab": {
          "base_uri": "https://localhost:8080/"
        }
      },
      "execution_count": null,
      "outputs": [
        {
          "output_type": "execute_result",
          "data": {
            "text/plain": [
              "45"
            ]
          },
          "metadata": {},
          "execution_count": 19
        }
      ]
    },
    {
      "cell_type": "code",
      "source": [
        "#confusion matrix\n",
        "from sklearn.metrics import confusion_matrix,accuracy_score,ConfusionMatrixDisplay"
      ],
      "metadata": {
        "id": "BSccuLx53tiW"
      },
      "execution_count": null,
      "outputs": []
    },
    {
      "cell_type": "code",
      "source": [
        "label=['Iris-setosa','Iris-versicolor','Iris-virginica']\n",
        "mat=confusion_matrix(y_pred,y_test)\n",
        "mat"
      ],
      "metadata": {
        "colab": {
          "base_uri": "https://localhost:8080/"
        },
        "id": "8Ogx_5lE4iBR",
        "outputId": "4111722f-d63a-4e89-dfe0-b2a0d2e32bc7"
      },
      "execution_count": null,
      "outputs": [
        {
          "output_type": "execute_result",
          "data": {
            "text/plain": [
              "array([[ 9,  0,  0],\n",
              "       [ 0, 19,  2],\n",
              "       [ 0,  0, 15]])"
            ]
          },
          "metadata": {},
          "execution_count": 21
        }
      ]
    },
    {
      "cell_type": "code",
      "source": [
        "mat=confusion_matrix(y_test,y_pred)\n",
        "mat"
      ],
      "metadata": {
        "colab": {
          "base_uri": "https://localhost:8080/"
        },
        "id": "rhxzcyIO5Gdq",
        "outputId": "3f239051-cb7e-4a9f-c2ad-e4361150509e"
      },
      "execution_count": null,
      "outputs": [
        {
          "output_type": "execute_result",
          "data": {
            "text/plain": [
              "array([[ 9,  0,  0],\n",
              "       [ 0, 19,  0],\n",
              "       [ 0,  2, 15]])"
            ]
          },
          "metadata": {},
          "execution_count": 22
        }
      ]
    },
    {
      "cell_type": "code",
      "source": [
        "#confusion matrix display\n",
        "cmd_display=ConfusionMatrixDisplay(mat,display_labels=label)\n",
        "cmd_display.plot()"
      ],
      "metadata": {
        "colab": {
          "base_uri": "https://localhost:8080/",
          "height": 296
        },
        "id": "u1UlpOra5Lxp",
        "outputId": "43e1eddd-f2c9-4636-a5c8-ee46457a128b"
      },
      "execution_count": null,
      "outputs": [
        {
          "output_type": "execute_result",
          "data": {
            "text/plain": [
              "<sklearn.metrics._plot.confusion_matrix.ConfusionMatrixDisplay at 0x7ff4ce0fee50>"
            ]
          },
          "metadata": {},
          "execution_count": 23
        },
        {
          "output_type": "display_data",
          "data": {
            "text/plain": [
              "<Figure size 432x288 with 2 Axes>"
            ],
            "image/png": "[encoded data removed]"
          },
          "metadata": {
            "needs_background": "light"
          }
        }
      ]
    },
    {
      "cell_type": "code",
      "source": [
        "#accuracy score\n",
        "score=accuracy_score(y_pred,y_test)\n",
        "score"
      ],
      "metadata": {
        "colab": {
          "base_uri": "https://localhost:8080/"
        },
        "id": "AOlXQc666tmM",
        "outputId": "478dbbd5-347e-446b-bcec-74700d6e5871"
      },
      "execution_count": null,
      "outputs": [
        {
          "output_type": "execute_result",
          "data": {
            "text/plain": [
              "0.9555555555555556"
            ]
          },
          "metadata": {},
          "execution_count": 24
        }
      ]
    },
    {
      "cell_type": "code",
      "source": [],
      "metadata": {
        "id": "IEvrEK6_66JL"
      },
      "execution_count": null,
      "outputs": []
    }
  ]
}